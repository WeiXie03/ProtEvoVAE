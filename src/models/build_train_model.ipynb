{
 "cells": [
  {
   "cell_type": "code",
   "execution_count": 1,
   "metadata": {},
   "outputs": [],
   "source": [
    "import numpy as np\n",
    "import pandas as pd\n",
    "import torch\n",
    "import torch.nn as nn\n",
    "import torch.nn.functional as F\n",
    "import torch.optim as optim\n",
    "from torch.utils.data import Dataset\n",
    "\n",
    "from VAEmodel import *"
   ]
  },
  {
   "attachments": {},
   "cell_type": "markdown",
   "metadata": {},
   "source": [
    "# Load the Data"
   ]
  },
  {
   "cell_type": "code",
   "execution_count": 2,
   "metadata": {},
   "outputs": [
    {
     "name": "stdout",
     "output_type": "stream",
     "text": [
      "enumd MSA shape:  (20151, 59)\n",
      "seq weights shape:  (20151,)\n",
      "seq infos shape:  (20151, 4)\n",
      "Number of sequences in loaded alignment:  20151\n",
      "Length of loaded alignment (final number of columns/a.a. positions in alignment for each sequence):  59\n"
     ]
    }
   ],
   "source": [
    "# Load the processed MSA data\n",
    "import pickle\n",
    "from pathlib import Path\n",
    "\n",
    "DATA_DIR = Path(\"../../data\")\n",
    "# REF_SEQ_ID = \"PF00041\"\n",
    "REF_SEQ_ID = \"PF00288\"\n",
    "AA_TYPES = [' ',\n",
    "      'R', 'H', 'K',\n",
    "      'D', 'E',\n",
    "      'S', 'T', 'N', 'Q',\n",
    "      'C', 'G', 'P',\n",
    "      'A', 'V', 'I', 'L', 'M', 'F', 'Y', 'W']\n",
    "\n",
    "enumd_msa = np.load(DATA_DIR / \"processed\" / \"enumd_mtx_{}.npy\".format(REF_SEQ_ID))\n",
    "print(\"enumd MSA shape: \", enumd_msa.shape)\n",
    "seq_weights = np.load(DATA_DIR / \"processed\" / \"seq_weights_{}.npy\".format(REF_SEQ_ID))\n",
    "print(\"seq weights shape: \", seq_weights.shape)\n",
    "seqs_infos = pd.read_csv(DATA_DIR / \"processed\" / \"seq_infos_{}.csv\".format(REF_SEQ_ID))\n",
    "print(\"seq infos shape: \", seqs_infos.shape)\n",
    "\n",
    "msa = MSA_Dataset(enumd_msa, seq_weights, seqs_infos, MSA_to_OneHot)\n",
    "\n",
    "# check length = num of seqs\n",
    "print(\"Number of sequences in loaded alignment: \", len(msa))\n",
    "print(\"Length of loaded alignment (final number of columns/a.a. positions in alignment for each sequence): \", enumd_msa.shape[1])"
   ]
  },
  {
   "attachments": {},
   "cell_type": "markdown",
   "metadata": {},
   "source": [
    "# Initialize Model"
   ]
  },
  {
   "cell_type": "code",
   "execution_count": 3,
   "metadata": {},
   "outputs": [
    {
     "name": "stdout",
     "output_type": "stream",
     "text": [
      "GPU available:  True\n",
      "flattened sequences 1239 dimensions\n"
     ]
    },
    {
     "data": {
      "text/plain": [
       "VAE(\n",
       "  (encoder_comm_layers): Sequential(\n",
       "    (0): Sequential(\n",
       "      (0): Linear(in_features=1239, out_features=200, bias=True)\n",
       "      (1): Tanh()\n",
       "    )\n",
       "    (1): Sequential(\n",
       "      (0): Linear(in_features=200, out_features=200, bias=True)\n",
       "      (1): Tanh()\n",
       "    )\n",
       "  )\n",
       "  (enc_mu): Linear(in_features=200, out_features=2, bias=True)\n",
       "  (enc_logvars): Linear(in_features=200, out_features=2, bias=True)\n",
       ")"
      ]
     },
     "execution_count": 3,
     "metadata": {},
     "output_type": "execute_result"
    }
   ],
   "source": [
    "# import torch_xla.core.xla_model as xm\n",
    "# dev = xm.xla_device()\n",
    "\n",
    "print(\"GPU available: \", torch.cuda.is_available())\n",
    "dev = torch.device(\"cuda:0\" if torch.cuda.is_available() else \"cpu\")\n",
    "\n",
    "# 2-dimensional latent space\n",
    "print(f\"flattened sequences {enumd_msa.shape[1] * len(AA_TYPES)} dimensions\")\n",
    "vae = VAE(len(AA_TYPES), 2, enumd_msa.shape[1] * len(AA_TYPES), [200, 200])\n",
    "vae.to(dev)"
   ]
  },
  {
   "cell_type": "code",
   "execution_count": 4,
   "metadata": {},
   "outputs": [
    {
     "name": "stdout",
     "output_type": "stream",
     "text": [
      "applying transform  <VAEmodel.MSA_to_OneHot object at 0x7f8e2231b1f0>\n",
      "before transform: tensor([14, 16, 19, 11,  8, 15, 12,  8, 11,  6, 11, 16,  6,  6,  6, 13,  6, 16,\n",
      "         5, 14, 16, 17, 11,  6, 15, 16,  3,  5, 17, 19, 11, 16,  5, 13, 16, 15,\n",
      "        11,  9, 19,  6,  5,  8,  8, 19,  8, 17,  8, 10, 11, 15, 17,  4,  9, 18,\n",
      "        13,  6, 13, 17, 11])\n",
      "initial latent projection of first sequence:  (tensor([ 0.0244, -0.0719], device='cuda:0', grad_fn=<AddBackward0>), tensor([1.0570, 1.0610], device='cuda:0', grad_fn=<ExpBackward0>))\n"
     ]
    }
   ],
   "source": [
    "first_latent = vae.encode(msa[0][0].to(dev))\n",
    "print(\"initial latent projection of first sequence: \", first_latent)"
   ]
  },
  {
   "attachments": {},
   "cell_type": "markdown",
   "metadata": {},
   "source": [
    "# Set up train, validation, test"
   ]
  },
  {
   "cell_type": "code",
   "execution_count": 5,
   "metadata": {},
   "outputs": [
    {
     "name": "stdout",
     "output_type": "stream",
     "text": [
      "num of seqs in train set:  16120\n",
      "num of seqs in validation set:  4031\n",
      "Training\n",
      "--------------------\n",
      "Using Adam Optimizer; Hyperparameters\n",
      "sampling one at a time, batch size = 1\n",
      "number of epochs:  177\n"
     ]
    }
   ],
   "source": [
    "from torch.utils.data import DataLoader\n",
    "from torch.utils.tensorboard import SummaryWriter\n",
    "\n",
    "train_size = int(0.8 * len(msa))\n",
    "train_set, val_set = torch.utils.data.random_split(msa, [train_size, len(msa) - train_size])\n",
    "print(\"num of seqs in train set: \", len(train_set))\n",
    "print(\"num of seqs in validation set: \", len(val_set))\n",
    "\n",
    "# 320k / 64 = 5000 batches per epoch\n",
    "batch_size = 64\n",
    "weight_decay = 1e-3\n",
    "# good rule of thumb: start with epochs := 3 * num of columns in data\n",
    "# also thanks to [How to choose a batch size and the number of epochs while training a NN](https://stats.stackexchange.com/a/529405)\n",
    "epochs = 3 * enumd_msa.shape[1] \n",
    "\n",
    "print(\"Training\")\n",
    "print('-' * 20)\n",
    "print(\"Using Adam Optimizer; Hyperparameters\")\n",
    "# print(\"batch size: \", batch_size, \" sequences\")\n",
    "print(\"sampling one at a time, batch size = 1\")\n",
    "# print(\"learning rate: \", learn_rate)\n",
    "print(\"number of epochs: \", epochs)"
   ]
  },
  {
   "cell_type": "code",
   "execution_count": 6,
   "metadata": {},
   "outputs": [],
   "source": [
    "train_loader = DataLoader(train_set, batch_size=1, shuffle=True)\n",
    "val_loader = DataLoader(val_set, batch_size=batch_size, shuffle=True)\n",
    "\n",
    "optimizer = optim.Adam(vae.parameters(),\n",
    "                       weight_decay=weight_decay)\n",
    "\n",
    "tb_logger = SummaryWriter()"
   ]
  },
  {
   "cell_type": "code",
   "execution_count": 7,
   "metadata": {},
   "outputs": [
    {
     "name": "stdout",
     "output_type": "stream",
     "text": [
      "applying transform  <VAEmodel.MSA_to_OneHot object at 0x7f8e2231b1f0>\n",
      "before transform: tensor([14, 15,  5, 11,  7, 15, 12,  8, 11, 13, 11, 16,  6,  6,  6, 13,  6, 16,\n",
      "         5, 16, 16, 14, 11, 14, 17, 16,  5,  4, 16, 19,  4, 16, 16, 14,  3, 15,\n",
      "        11,  9,  3, 14,  5,  8,  5, 18, 15, 14,  8,  6, 11, 15, 17,  4,  9, 18,\n",
      "        13, 15, 11, 18, 11])\n"
     ]
    },
    {
     "ename": "AttributeError",
     "evalue": "'VAE' object has no attribute 'decoder'",
     "output_type": "error",
     "traceback": [
      "\u001b[0;31m---------------------------------------------------------------------------\u001b[0m",
      "\u001b[0;31mAttributeError\u001b[0m                            Traceback (most recent call last)",
      "Cell \u001b[0;32mIn[7], line 10\u001b[0m\n\u001b[1;32m      8\u001b[0m weight \u001b[39m=\u001b[39m weight\u001b[39m.\u001b[39mto(dev)\n\u001b[1;32m      9\u001b[0m optimizer\u001b[39m.\u001b[39mzero_grad()\n\u001b[0;32m---> 10\u001b[0m loss \u001b[39m=\u001b[39m (\u001b[39m-\u001b[39m\u001b[39m1\u001b[39m)\u001b[39m*\u001b[39mvae\u001b[39m.\u001b[39;49mcalc_weighted_elbo(seq, weight)\n\u001b[1;32m     11\u001b[0m loss\u001b[39m.\u001b[39mbackward()\n\u001b[1;32m     12\u001b[0m optimizer\u001b[39m.\u001b[39mstep()\n",
      "File \u001b[0;32m~/Public/ProtEvoVAE/ProtEvoVAE/src/models/VAEmodel.py:188\u001b[0m, in \u001b[0;36mVAE.calc_weighted_elbo\u001b[0;34m(self, x, seq_weights)\u001b[0m\n\u001b[1;32m    186\u001b[0m z \u001b[39m=\u001b[39m \u001b[39mself\u001b[39m\u001b[39m.\u001b[39msample_latent(mu, \u001b[39mvars\u001b[39m)\n\u001b[1;32m    187\u001b[0m \u001b[39m# project \"back\" into seqs space, except probs over possib a.a.'s for all pos's\u001b[39;00m\n\u001b[0;32m--> 188\u001b[0m log_ps \u001b[39m=\u001b[39m \u001b[39mself\u001b[39;49m\u001b[39m.\u001b[39;49mdecoder(z)\n\u001b[1;32m    190\u001b[0m \u001b[39m# calculate log p(x|z)\u001b[39;00m\n\u001b[1;32m    191\u001b[0m \u001b[39m# element-wise prod between:\u001b[39;00m\n\u001b[1;32m    192\u001b[0m \u001b[39m#   one-hot encoding and\u001b[39;00m\n\u001b[1;32m    193\u001b[0m \u001b[39m#   log p(each aa type in one-hot encoding)\u001b[39;00m\n\u001b[1;32m    194\u001b[0m \u001b[39m# = {for each pos i, p(the 1 true aa type, the single 1 in x_i)}\u001b[39;00m\n\u001b[1;32m    195\u001b[0m log_PxIz \u001b[39m=\u001b[39m torch\u001b[39m.\u001b[39msum(x\u001b[39m*\u001b[39mlog_ps, \u001b[39m-\u001b[39m\u001b[39m1\u001b[39m)\n",
      "File \u001b[0;32m~/miniconda3/envs/ProtEvoVAE/lib/python3.10/site-packages/torch/nn/modules/module.py:1269\u001b[0m, in \u001b[0;36mModule.__getattr__\u001b[0;34m(self, name)\u001b[0m\n\u001b[1;32m   1267\u001b[0m     \u001b[39mif\u001b[39;00m name \u001b[39min\u001b[39;00m modules:\n\u001b[1;32m   1268\u001b[0m         \u001b[39mreturn\u001b[39;00m modules[name]\n\u001b[0;32m-> 1269\u001b[0m \u001b[39mraise\u001b[39;00m \u001b[39mAttributeError\u001b[39;00m(\u001b[39m\"\u001b[39m\u001b[39m'\u001b[39m\u001b[39m{}\u001b[39;00m\u001b[39m'\u001b[39m\u001b[39m object has no attribute \u001b[39m\u001b[39m'\u001b[39m\u001b[39m{}\u001b[39;00m\u001b[39m'\u001b[39m\u001b[39m\"\u001b[39m\u001b[39m.\u001b[39mformat(\n\u001b[1;32m   1270\u001b[0m     \u001b[39mtype\u001b[39m(\u001b[39mself\u001b[39m)\u001b[39m.\u001b[39m\u001b[39m__name__\u001b[39m, name))\n",
      "\u001b[0;31mAttributeError\u001b[0m: 'VAE' object has no attribute 'decoder'"
     ]
    }
   ],
   "source": [
    "running_loss = []\n",
    "for epoch in range(epochs):\n",
    "    # just for convenience of using DataLoader,\n",
    "    # only one sample => i loop through i=0\n",
    "    for i, data in enumerate(train_loader):\n",
    "        seq, weight, seq_info = data\n",
    "        seq = seq.to(dev)\n",
    "        weight = weight.to(dev)\n",
    "        optimizer.zero_grad()\n",
    "        loss = (-1)*vae.calc_weighted_elbo(seq, weight)\n",
    "        loss.backward()\n",
    "        optimizer.step()\n",
    "\n",
    "    # Gather data and report\n",
    "    running_loss.append(loss.item())\n",
    "    if (epoch+1) % 50 == 0:\n",
    "        print('epoch {} loss: {}'.format(epoch+1, running_loss[epoch]))\n",
    "        tb_x = epoch*len(train_loader) + i+1\n",
    "        tb_logger.add_scalar('Loss/train', running_loss[epoch], tb_x)\n",
    "\n",
    "vae.cpu()\n",
    "torch.save(vae.state_dict(), DATA_DIR / \"models\" / \"vae_{}_{}_epochs.pt\".format(REF_SEQ_ID, epochs))"
   ]
  },
  {
   "attachments": {},
   "cell_type": "markdown",
   "metadata": {},
   "source": [
    "### Visualize data flow within model"
   ]
  },
  {
   "cell_type": "code",
   "execution_count": null,
   "metadata": {},
   "outputs": [],
   "source": [
    "# Again, grab a single mini-batch of images\n",
    "dataiter = iter(train_loader)\n",
    "seq, weight, seq_infos = next(dataiter)\n",
    "\n",
    "# add_graph() will trace the sample input through your model,\n",
    "# and render it as a graph.\n",
    "tb_logger.add_graph(vae, seq)\n",
    "tb_logger.flush()"
   ]
  }
 ],
 "metadata": {
  "kernelspec": {
   "display_name": "ProtEvoVAE",
   "language": "python",
   "name": "python3"
  },
  "language_info": {
   "codemirror_mode": {
    "name": "ipython",
    "version": 3
   },
   "file_extension": ".py",
   "mimetype": "text/x-python",
   "name": "python",
   "nbconvert_exporter": "python",
   "pygments_lexer": "ipython3",
   "version": "3.10.8"
  },
  "orig_nbformat": 4
 },
 "nbformat": 4,
 "nbformat_minor": 2
}
