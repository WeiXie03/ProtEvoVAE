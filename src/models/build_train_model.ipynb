{
 "cells": [
  {
   "cell_type": "code",
   "execution_count": 4,
   "metadata": {},
   "outputs": [],
   "source": [
    "import numpy as np\n",
    "import pandas as pd\n",
    "import torch\n",
    "import torch.nn as nn\n",
    "import torch.nn.functional as F\n",
    "import torch.optim as optim\n",
    "from torch.utils.data import Dataset\n",
    "\n",
    "from VAEmodel import *"
   ]
  },
  {
   "attachments": {},
   "cell_type": "markdown",
   "metadata": {},
   "source": [
    "# Load the Data"
   ]
  },
  {
   "cell_type": "code",
   "execution_count": 5,
   "metadata": {},
   "outputs": [
    {
     "name": "stdout",
     "output_type": "stream",
     "text": [
      "enumd_msa.shape:  (320066, 79)\n",
      "seq_weights.shape:  (320066,)\n",
      "Number of sequences in loaded alignment:  320066\n",
      "Length of loaded alignment (final number of columns/a.a. positions in alignment for each sequence):  79\n"
     ]
    }
   ],
   "source": [
    "# Load the processed MSA data\n",
    "import pickle\n",
    "from pathlib import Path\n",
    "\n",
    "DATA_DIR = Path(\"../../data\")\n",
    "# REF_SEQ_ID = \"PF00041\"\n",
    "REF_SEQ_ID = \"PF00288\"\n",
    "AA_TYPES = ['R', 'H', 'K',\n",
    "      'D', 'E',\n",
    "      'S', 'T', 'N', 'Q',\n",
    "      'C', 'G', 'P',\n",
    "      'A', 'V', 'I', 'L', 'M', 'F', 'Y', 'W']\n",
    "\n",
    "enumd_msa = np.load(DATA_DIR / \"processed\" / \"enumd_mtx_{}.npy\".format(REF_SEQ_ID))\n",
    "print(\"enumd MSA shape: \", enumd_msa.shape)\n",
    "seq_weights = np.load(DATA_DIR / \"processed\" / \"seq_weights_{}.npy\".format(REF_SEQ_ID))\n",
    "print(\"seq weights shape: \", seq_weights.shape)\n",
    "seqs_infos = pd.read_csv(DATA_DIR / \"processed\" / \"seq_infos_{}.csv\".format(REF_SEQ_ID))\n",
    "print(\"seq infos shape: \", seqs_infos.shape)\n",
    "\n",
    "msa = MSA_Dataset(enumd_msa, seq_weights, seqs_infos, MSA_to_OneHot)\n",
    "\n",
    "# check length = num of seqs\n",
    "print(\"Number of sequences in loaded alignment: \", len(msa))\n",
    "print(\"Length of loaded alignment (final number of columns/a.a. positions in alignment for each sequence): \", enumd_msa.shape[1])"
   ]
  },
  {
   "attachments": {},
   "cell_type": "markdown",
   "metadata": {},
   "source": [
    "# Initialize Model"
   ]
  },
  {
   "cell_type": "code",
   "execution_count": 7,
   "metadata": {},
   "outputs": [
    {
     "name": "stdout",
     "output_type": "stream",
     "text": [
      "GPU available:  True\n"
     ]
    },
    {
     "data": {
      "text/plain": [
       "VAE(\n",
       "  (encoder_comm_layers): Sequential(\n",
       "    (0): Sequential(\n",
       "      (0): Linear(in_features=2, out_features=200, bias=True)\n",
       "      (1): Tanh()\n",
       "    )\n",
       "    (1): Sequential(\n",
       "      (0): Linear(in_features=200, out_features=200, bias=True)\n",
       "      (1): Tanh()\n",
       "    )\n",
       "  )\n",
       "  (enc_mu): Linear(in_features=200, out_features=2, bias=True)\n",
       "  (enc_logvars): Linear(in_features=200, out_features=2, bias=True)\n",
       ")"
      ]
     },
     "execution_count": 7,
     "metadata": {},
     "output_type": "execute_result"
    }
   ],
   "source": [
    "# import torch_xla.core.xla_model as xm\n",
    "# dev = xm.xla_device()\n",
    "\n",
    "print(\"GPU available: \", torch.cuda.is_available())\n",
    "dev = torch.device(\"cuda:0\" if torch.cuda.is_available() else \"cpu\")\n",
    "\n",
    "# 2-dimensional latent space\n",
    "vae = VAE(len(AA_TYPES), 2, enumd_msa.shape[1] * len(AA_TYPES), [200, 200])\n",
    "vae.to(dev)"
   ]
  },
  {
   "cell_type": "code",
   "execution_count": 8,
   "metadata": {},
   "outputs": [
    {
     "ename": "AttributeError",
     "evalue": "'numpy.ndarray' object has no attribute 'to'",
     "output_type": "error",
     "traceback": [
      "\u001b[0;31m---------------------------------------------------------------------------\u001b[0m",
      "\u001b[0;31mAttributeError\u001b[0m                            Traceback (most recent call last)",
      "Cell \u001b[0;32mIn[8], line 1\u001b[0m\n\u001b[0;32m----> 1\u001b[0m vae\u001b[39m.\u001b[39mencode(msa[\u001b[39m0\u001b[39;49m][\u001b[39m0\u001b[39;49m]\u001b[39m.\u001b[39;49mto(dev))\n",
      "\u001b[0;31mAttributeError\u001b[0m: 'numpy.ndarray' object has no attribute 'to'"
     ]
    }
   ],
   "source": [
    "first_latent = vae.encode(msa[0][0].to(dev))\n",
    "print(\"initial latent projection of first sequence: \", first_latent)"
   ]
  },
  {
   "attachments": {},
   "cell_type": "markdown",
   "metadata": {},
   "source": [
    "# Set up train, validation, test"
   ]
  },
  {
   "cell_type": "code",
   "execution_count": null,
   "metadata": {},
   "outputs": [],
   "source": [
    "from torch.utils.data import DataLoader\n",
    "from torch.utils.tensorboard import SummaryWriter\n",
    "\n",
    "train_size = int(0.8 * len(msa))\n",
    "train_set, val_set = torch.utils.data.random_split(msa, [train_size, len(msa) - train_size])\n",
    "print(\"num of seqs in train set: \", len(train_set))\n",
    "print(\"num of seqs in validation set: \", len(val_set))\n",
    "\n",
    "# 320k / 64 = 5000 batches per epoch\n",
    "batch_size = 64\n",
    "weight_decay = 1e-3\n",
    "# good rule of thumb: start with epochs := 3 * num of columns in data\n",
    "# also thanks to [How to choose a batch size and the number of epochs while training a NN](https://stats.stackexchange.com/a/529405)\n",
    "epochs = 3 * enumd_msa.shape[1] \n",
    "\n",
    "print(\"Training\")\n",
    "print('-' * 20)\n",
    "print(\"Using Adam Optimizer; Hyperparameters\")\n",
    "# print(\"batch size: \", batch_size, \" sequences\")\n",
    "print(\"sampling one at a time, batch size = 1\")\n",
    "# print(\"learning rate: \", learn_rate)\n",
    "print(\"number of epochs: \", epochs)"
   ]
  },
  {
   "cell_type": "code",
   "execution_count": null,
   "metadata": {},
   "outputs": [],
   "source": [
    "train_loader = DataLoader(train_set, batch_size=1, shuffle=True)\n",
    "val_loader = DataLoader(val_set, batch_size=batch_size, shuffle=True)\n",
    "\n",
    "optimizer = optim.Adam(vae.parameters(),\n",
    "                       weight_decay=weight_decay)\n",
    "\n",
    "tb_logger = SummaryWriter()"
   ]
  },
  {
   "cell_type": "code",
   "execution_count": null,
   "metadata": {},
   "outputs": [],
   "source": [
    "running_loss = []\n",
    "for epoch in range(epochs):\n",
    "    # just for convenience of using DataLoader,\n",
    "    # only one sample => i loop through i=0\n",
    "    for i, data in enumerate(train_loader):\n",
    "        seq, weight, seq_info = data\n",
    "        optimizer.zero_grad()\n",
    "        loss = (-1)*vae.calc_weighted_elbo(seq, weight)\n",
    "        loss.backward()\n",
    "        optimizer.step()\n",
    "\n",
    "    # Gather data and report\n",
    "    running_loss.append(loss.item())\n",
    "    if (epoch+1) % 50 == 0:\n",
    "        print('epoch {} loss: {}'.format(epoch+1, running_loss[epoch]))\n",
    "        tb_x = epoch*len(train_loader) + i+1\n",
    "        tb_logger.add_scalar('Loss/train', running_loss[epoch], tb_x)\n",
    "\n",
    "vae.cpu()\n",
    "torch.save(vae.state_dict(), DATA_DIR / \"models\" / \"vae_{}_{}_epochs.pt\".format(REF_SEQ_ID, epochs))"
   ]
  },
  {
   "attachments": {},
   "cell_type": "markdown",
   "metadata": {},
   "source": [
    "### Visualize data flow within model"
   ]
  },
  {
   "cell_type": "code",
   "execution_count": null,
   "metadata": {},
   "outputs": [],
   "source": [
    "# Again, grab a single mini-batch of images\n",
    "dataiter = iter(train_loader)\n",
    "seq, weight, seq_infos = next(dataiter)\n",
    "\n",
    "# add_graph() will trace the sample input through your model,\n",
    "# and render it as a graph.\n",
    "tb_logger.add_graph(vae, seq)\n",
    "tb_logger.flush()"
   ]
  }
 ],
 "metadata": {
  "kernelspec": {
   "display_name": "ProtEvoVAE",
   "language": "python",
   "name": "python3"
  },
  "language_info": {
   "codemirror_mode": {
    "name": "ipython",
    "version": 3
   },
   "file_extension": ".py",
   "mimetype": "text/x-python",
   "name": "python",
   "nbconvert_exporter": "python",
   "pygments_lexer": "ipython3",
   "version": "3.10.8"
  },
  "orig_nbformat": 4
 },
 "nbformat": 4,
 "nbformat_minor": 2
}
