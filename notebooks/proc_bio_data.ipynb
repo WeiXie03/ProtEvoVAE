{
 "cells": [
  {
   "cell_type": "code",
   "execution_count": 2,
   "metadata": {},
   "outputs": [],
   "source": [
    "from Bio import AlignIO\n",
    "from pathlib import Path\n",
    "\n",
    "#DATA_DIR = Path(__file__).resolve().parents[2] / 'data'\n",
    "DATA_DIR = Path(\"../data\")\n",
    "#msas = AlignIO.read(DATA_DIR / \"external\" / \"MSA\" / \"PF00067.sth\", \"stockholm\")\n",
    "msas = AlignIO.read(DATA_DIR / \"external\" / \"MSA\" / \"PF00041.sth\", \"stockholm\")"
   ]
  },
  {
   "cell_type": "code",
   "execution_count": 13,
   "metadata": {},
   "outputs": [
    {
     "name": "stdout",
     "output_type": "stream",
     "text": [
      "A0A6P3HJ08_BISBI/370-459\n",
      "A0A2I4CJB5_9TELE/525-603\n"
     ]
    }
   ],
   "source": [
    "#print(msas)\n",
    "for alignment in msas:\n",
    "    #print(type(alignment))\n",
    "    if alignment.seq.count('.') + alignment.seq.count('-') <= 10:\n",
    "        print(alignment.seq)\n",
    "# for i in range(2):\n",
    "#     print(msas[i].id)\n",
    "#     #print(\"\\tlength = {}\".format(len(msas[i])))\n",
    "#     print(msas[i].seq.count('-') + msas[i].seq.count('.'))"
   ]
  },
  {
   "cell_type": "code",
   "execution_count": 29,
   "metadata": {},
   "outputs": [
    {
     "data": {
      "text/plain": [
       "(Bio.Align.MultipleSeqAlignment, object)"
      ]
     },
     "execution_count": 29,
     "metadata": {},
     "output_type": "execute_result"
    }
   ],
   "source": [
    "import inspect\n",
    "inspect.getmro(AlignIO.MultipleSeqAlignment)"
   ]
  },
  {
   "cell_type": "code",
   "execution_count": 3,
   "metadata": {},
   "outputs": [
    {
     "name": "stdout",
     "output_type": "stream",
     "text": [
      "a match\n"
     ]
    }
   ],
   "source": [
    "import numpy as np\n",
    "QUERY_SEQ_ID = \"A0A6P3HJ08_BISBI/370-459\"\n",
    "\n",
    "query_seq = \"\"\n",
    "query_ind = -1\n",
    "for i in range(len(msas)):\n",
    "    if msas[i].id == QUERY_SEQ_ID:\n",
    "        print(\"a match\")\n",
    "        query_seq = msas[i].seq\n",
    "        query_ind = i\n",
    "        break\n",
    "#valid_inds = np.array( [aa for aa in query_seq if (aa != '-' and aa != '.')] )"
   ]
  },
  {
   "cell_type": "code",
   "execution_count": 6,
   "metadata": {},
   "outputs": [
    {
     "name": "stdout",
     "output_type": "stream",
     "text": [
      "[[ 0  1  2  3]\n",
      " [ 4  5  6  7]\n",
      " [ 8  9 10 11]]\n",
      "[[ 0  3]\n",
      " [ 4  7]\n",
      " [ 8 11]]\n",
      "[2 1 0]\n",
      "[False  True  True]\n",
      "[[ 4  7]\n",
      " [ 8 11]]\n"
     ]
    }
   ],
   "source": [
    "A = np.arange(12).reshape(3,4)\n",
    "print(A)\n",
    "A_p = A[:, ~(np.logical_or(A[0,:] == 1, A[0,:] == 2))]\n",
    "print(A_p)\n",
    "print(np.count_nonzero(A_p < 7, axis=1))\n",
    "print(np.count_nonzero(A_p < 7, axis=1) < 2)\n",
    "print(A_p[np.count_nonzero(A_p < 7, axis=1) < 2,:])"
   ]
  },
  {
   "cell_type": "code",
   "execution_count": 9,
   "metadata": {},
   "outputs": [
    {
     "name": "stdout",
     "output_type": "stream",
     "text": [
      "[['A' 'B' 'C']\n",
      " ['-' 'C' 'A']\n",
      " ['B' '.' '-']]\n",
      "[['A']\n",
      " ['-']\n",
      " ['B']]\n"
     ]
    }
   ],
   "source": [
    "import numpy as np\n",
    "\n",
    "#A = np.arange(100, 108, dtype=\"<U1\").reshape((3,3))\n",
    "A = np.asarray(['A', 'B', 'C', '-', 'C', 'A', 'B', '.', '-']).reshape((3,3))\n",
    "print(A)\n",
    "print(A[:, ~(np.logical_or(A[2,:] == '-', A[2,:] == '.'))])"
   ]
  },
  {
   "cell_type": "code",
   "execution_count": 20,
   "metadata": {},
   "outputs": [
    {
     "name": "stdout",
     "output_type": "stream",
     "text": [
      "(422883, 90)\n",
      "pruned query seq: ['a' 'p' 's' 'a' 'p' 'v' 'i' 'N' 'P' 'Q' 'A' 'P' 'N' 'S' 'a' 'T' 'G' 'S'\n",
      " 'S' 'V' 'R' 'V' 'C' 'W' 'S' 'L' 'Y' 'S' 'D' 'D' 'T' 'V' 'E' 'S' 'Y' 'Q'\n",
      " 'L' 'S' 'Y' 'R' 'P' 'V' 'Q' 'D' 'G' 'S' 'p' 'g' 'k' 'E' 'Q' 'T' 'E' 'V'\n",
      " 'T' 'M' 'T' 'I' 'K' 'E' 'T' 'Y' 'C' 'S' 'V' 'T' 'N' 'L' 'L' 'P' 'N' 'T'\n",
      " 'Q' 'Y' 'E' 'F' 'W' 'V' 'T' 'A' 'Q' 'N' 'R' 'A' 'G' 'L' 'S' 'P' 'T' 'S']\n"
     ]
    }
   ],
   "source": [
    "pruneds = np.array(msas)\n",
    "#pruneds = pruneds[:, valid_inds]\n",
    "pruneds = pruneds[:, \n",
    "    np.logical_and(\n",
    "        pruneds[query_ind,:] != '-',\n",
    "        pruneds[query_ind,:] != '.'\n",
    "    )\n",
    "]\n",
    "print(pruneds.shape)\n",
    "print(\"pruned query seq: {}\".format(pruneds[query_ind,:]))"
   ]
  }
 ],
 "metadata": {
  "kernelspec": {
   "display_name": "ProtEvoVAE",
   "language": "python",
   "name": "python3"
  },
  "language_info": {
   "codemirror_mode": {
    "name": "ipython",
    "version": 3
   },
   "file_extension": ".py",
   "mimetype": "text/x-python",
   "name": "python",
   "nbconvert_exporter": "python",
   "pygments_lexer": "ipython3",
   "version": "3.10.8 (main, Nov 24 2022, 14:13:03) [GCC 11.2.0]"
  },
  "orig_nbformat": 4,
  "vscode": {
   "interpreter": {
    "hash": "79f8d58c6389f5a220ce08c515da8af65634caf6a35b1ce2841b4c3ca71756bb"
   }
  }
 },
 "nbformat": 4,
 "nbformat_minor": 2
}
